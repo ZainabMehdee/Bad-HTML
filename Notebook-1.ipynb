{
  "nbformat": 4,
  "nbformat_minor": 0,
  "metadata": {
    "colab": {
      "name": "Notebook 1.ipynb",
      "provenance": [],
      "collapsed_sections": [],
      "authorship_tag": "ABX9TyO9fVMU7hwmPCnJ1/rXLDr2",
      "include_colab_link": true
    },
    "kernelspec": {
      "name": "python3",
      "display_name": "Python 3"
    }
  },
  "cells": [
    {
      "cell_type": "markdown",
      "metadata": {
        "id": "view-in-github",
        "colab_type": "text"
      },
      "source": [
        "<a href=\"https://colab.research.google.com/github/ZainabMehdee/My-Notebooks/blob/master/Notebook-1.ipynb\" target=\"_parent\"><img src=\"https://colab.research.google.com/assets/colab-badge.svg\" alt=\"Open In Colab\"/></a>"
      ]
    },
    {
      "cell_type": "code",
      "metadata": {
        "id": "ZuBLL10RgYx0",
        "outputId": "1509b3ef-ea26-46b9-adc5-1811e198b603",
        "colab": {
          "base_uri": "https://localhost:8080/"
        }
      },
      "source": [
        "#1. Create a greeting for your program.\n",
        "print(\"Welcome to the band name generator! \")\n",
        "\n",
        "#2. Ask the user for the city that they grew up in.\n",
        "city = input(\"Which city did you grow up in?\\n \")\n",
        "\n",
        "#3. Ask the user for the name of a pet.\n",
        "pet_name = input(\"What is the name of your pet?\\n \")\n",
        "\n",
        "#4. Combine the name of their city and pet and show them their band name.\n",
        "band_name = print(\"The name of your band is: \", city, pet_name )\n",
        "#5. Make sure the input cursor shows on a new line, see the example at:"
      ],
      "execution_count": 1,
      "outputs": [
        {
          "output_type": "stream",
          "text": [
            "Welcome to the band name generator! \n",
            "Which city did you grow up in?\n",
            " happy\n",
            "What is the name of your pet?\n",
            " goerge\n",
            "The name of your band is:  happy goerge\n"
          ],
          "name": "stdout"
        }
      ]
    }
  ]
}